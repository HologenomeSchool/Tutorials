{
 "cells": [
  {
   "cell_type": "markdown",
   "id": "9465a4ab-710b-459d-ba06-6b5aac2cee2e",
   "metadata": {},
   "source": [
    "<h2>Decision structures</h2>"
   ]
  },
  {
   "cell_type": "markdown",
   "id": "4134ae9e-aa94-455c-adda-5a20e1dccd82",
   "metadata": {},
   "source": [
    "<h3>Question 1</h3>\n",
    "\n",
    "Create two variables and assign one number to each. Your program should output the value of the largest number."
   ]
  },
  {
   "cell_type": "code",
   "execution_count": null,
   "id": "a6293f7d-3675-4c7f-81a4-eca4faf33328",
   "metadata": {},
   "outputs": [],
   "source": []
  },
  {
   "cell_type": "markdown",
   "id": "056e3dd5-a69a-4733-bbe4-39c79598a591",
   "metadata": {},
   "source": [
    "### Question 2\n",
    "\n",
    "The area of a rectangle is the length multiplied by width. Write a code that with 4 variables, the width and height for rectangle one, and for rectangle two. The program should tell the user which rectangle has the greater area or if the areas are the same."
   ]
  },
  {
   "cell_type": "code",
   "execution_count": null,
   "id": "8737803a-5a3c-4574-b10b-8fa60d715e70",
   "metadata": {},
   "outputs": [],
   "source": [
    "   "
   ]
  },
  {
   "cell_type": "markdown",
   "id": "c9d2089e-e16a-4060-ab08-0204e0208e20",
   "metadata": {},
   "source": [
    "### Question 3\n",
    "\n",
    "<p>Write a program that will calculate the total value of a bulk sale. Your program should have a variable holding the number of packages that the salesman sold, and each package value is 99. The program should display the amount of the discount (if any) and the total amount of the purchase after the discount.\n",
    "Please use if / elif statements to solve this problem and note that your solution to this problem should make use of the and logical operator where possible.\n",
    "The discounts will be:</p>\n",
    "<ul>\n",
    "    <li>\n",
    "        If you sold between 10 and 19, you will have 20% of discount\n",
    "    </li>\n",
    "    <li>20 to 49, 30%.</li>\n",
    "    <li>50 to 99, 40%.</li>\n",
    "    <li>Above 100, 50%.</li>\n",
    "</ul>"
   ]
  },
  {
   "cell_type": "markdown",
   "id": "b4b956ed-a810-4e8b-a307-8a54120900f3",
   "metadata": {},
   "source": [
    "### Question 4\n",
    "\n",
    "Write a program to compare three numerical float values. Using conditional statements your program should print out the largest of the three numbers."
   ]
  },
  {
   "cell_type": "code",
   "execution_count": null,
   "id": "b040e7e1-63b2-46b5-b226-f7c85c2d502a",
   "metadata": {},
   "outputs": [],
   "source": [
    "score = int(input(\"Enter the score(0-100): \"))"
   ]
  },
  {
   "cell_type": "code",
   "execution_count": null,
   "id": "1404cdb6-40d8-4607-9f0c-ff539ad228f8",
   "metadata": {},
   "outputs": [],
   "source": []
  },
  {
   "cell_type": "markdown",
   "id": "ec04a2b4-1a19-44fa-87b0-a5606479289a",
   "metadata": {},
   "source": [
    "<h3>Question 5</h3>\n",
    "<p>Create a program that takes a student's score (out of 100) as input (the function you should use is provided bellow. Use an if-elif-else statement to classify the score into grades:</p>\n",
    "<ul>\n",
    "    <li>A (90-100)</li>\n",
    "    <li>B (80-89)</li>\n",
    "    <li>C (70-79)</li>\n",
    "    <li>D (60-69)</li>\n",
    "    <li>F (below 60) </li>\n",
    "</ul>\n",
    "<p>print the corresponding grade.</p>"
   ]
  },
  {
   "cell_type": "code",
   "execution_count": null,
   "id": "840efb59-b536-4b8e-b5ba-8a0281e929dc",
   "metadata": {},
   "outputs": [],
   "source": [
    "grade = int(input(\"Enter your grade: \"))"
   ]
  },
  {
   "cell_type": "markdown",
   "id": "41d93bc8-86fc-4799-a26d-175cd3068ff2",
   "metadata": {},
   "source": [
    "<h3>Question 6</h3>\n",
    "<p>Write a program that asks the user for the current temperature. Use if-elif-else to classify the temperature and provide suggestions, such as:</p>\n",
    "<ul>\n",
    "    <li>Bellow 0:\"It's freezing! Wear a heavy coat\"</li>\n",
    "    <li>0 to 10: \"It's cold. Wear a coat\"</li>\n",
    "    <li>11 to 20. It's cool. Wear a summer jacket.</li>\n",
    "    <li>Above 20. It's summertime, let's go to the beach</li>\n",
    "</ul>\n",
    "<p>Print the suggestion.</p>"
   ]
  },
  {
   "cell_type": "code",
   "execution_count": null,
   "id": "5b26387c-299c-49e0-a047-6f1baf5cc053",
   "metadata": {},
   "outputs": [],
   "source": [
    "temperature = int(input(\"Enter the temperature: \"))"
   ]
  },
  {
   "cell_type": "markdown",
   "id": "36222b42-78b8-4035-8b80-4c66ce9b065d",
   "metadata": {},
   "source": [
    "<h2>Iteration structures</h3>"
   ]
  },
  {
   "cell_type": "markdown",
   "id": "9de345e9-1764-4fc1-809f-3575f0f4a4dc",
   "metadata": {},
   "source": [
    "<h3>Question 7</h3>\n",
    "<p>Write a loop that counts from 0 to 20 (inclusive) using a while loop. Do the same loop but use a for loop and the range() built-in function.</p>"
   ]
  },
  {
   "cell_type": "code",
   "execution_count": null,
   "id": "11330c66-540d-4378-84c9-9a80a2cd4245",
   "metadata": {},
   "outputs": [],
   "source": []
  },
  {
   "cell_type": "markdown",
   "id": "e6a3a088-fbaf-418a-bf27-66fe7db7a8ea",
   "metadata": {},
   "source": [
    "<h3>Question 8</h3>\n",
    "<p>Write a program that will print out the ten times tables. (100, 101, ..., 10*12). (Use a for loop when implementing this functionality).</p>"
   ]
  },
  {
   "cell_type": "code",
   "execution_count": null,
   "id": "013d24fe-fc86-49ef-aaaa-09aea5dcd620",
   "metadata": {},
   "outputs": [],
   "source": []
  },
  {
   "attachments": {
    "28f83100-bd69-482d-bf43-d95ced7167fb.png": {
     "image/png": "[encoded data removed]"
    }
   },
   "cell_type": "markdown",
   "id": "d3081f17-5315-4e9d-b4d6-6d84c4901fd3",
   "metadata": {},
   "source": [
    "<h3>Question 9</h3>\n",
    "<p>Write code to output the pattern of stars below (6 rows of 5 stars`each).</p>\n",
    "\n",
    "![image.png](attachment:28f83100-bd69-482d-bf43-d95ced7167fb.png)"
   ]
  },
  {
   "cell_type": "code",
   "execution_count": null,
   "id": "b354e372-af02-4b30-a47f-e31886524c04",
   "metadata": {},
   "outputs": [],
   "source": []
  },
  {
   "attachments": {
    "abb1b7fa-c6a5-45ec-a93d-cd28994deb69.png": {
     "image/png": "[encoded data removed]"
    }
   },
   "cell_type": "markdown",
   "id": "57cb11a3-d921-4496-bdaa-43249de8b8b9",
   "metadata": {},
   "source": [
    "<h3>Question 10</h3>\n",
    "<p>Implement a code that will print a triangle of that size specified by an integer assigned to a variable, so that each row in the triangle is made up of the integer displayed.</p>\n",
    "\n",
    "![image.png](attachment:abb1b7fa-c6a5-45ec-a93d-cd28994deb69.png)"
   ]
  },
  {
   "cell_type": "code",
   "execution_count": 1,
   "id": "96a4ea82-91bb-4466-a94b-02e80566c258",
   "metadata": {},
   "outputs": [
    {
     "name": "stdin",
     "output_type": "stream",
     "text": [
      "Please enter an integer for triangle size:  10\n"
     ]
    }
   ],
   "source": [
    "triangleSides = int(input(\"Please enter an integer for triangle size: \"))"
   ]
  },
  {
   "cell_type": "code",
   "execution_count": null,
   "id": "0c9d0b79-3bce-4f85-af80-fbe59a14bad0",
   "metadata": {},
   "outputs": [],
   "source": []
  },
  {
   "cell_type": "markdown",
   "id": "ffce0548-154f-4d4b-9e67-5d6b7463cac2",
   "metadata": {},
   "source": [
    "<h3>Question 11</h3>\n",
    "<p>Write a program that asks the user to guess a secret number (like 7) until they guess correctly</p> Use a while lopp to continue the loop until the user guess the correct number. use the function int(input()) to collect the number from the user."
   ]
  },
  {
   "cell_type": "code",
   "execution_count": null,
   "id": "a8627091-7329-4065-972e-46a3c01a5d90",
   "metadata": {},
   "outputs": [],
   "source": []
  },
  {
   "cell_type": "markdown",
   "id": "47f1f738-b1b3-4dc1-9fa4-57b25356374f",
   "metadata": {},
   "source": []
  },
  {
   "cell_type": "markdown",
   "id": "a28ca932-b5f8-407c-b5ad-78c5e066fda5",
   "metadata": {},
   "source": [
    "<h3>Question 12</h3>\n",
    "<p>Write a program that will keep asking the user to enter a number until the user enters a negative number. When that happens, print the total sum(excoluding the negative number).</p>"
   ]
  },
  {
   "cell_type": "code",
   "execution_count": null,
   "id": "e3d14fd1-dc62-421d-851c-74f766af6a04",
   "metadata": {},
   "outputs": [],
   "source": []
  }
 ],
 "metadata": {
  "kernelspec": {
   "display_name": "Python 3 (ipykernel)",
   "language": "python",
   "name": "python3"
  },
  "language_info": {
   "codemirror_mode": {
    "name": "ipython",
    "version": 3
   },
   "file_extension": ".py",
   "mimetype": "text/x-python",
   "name": "python",
   "nbconvert_exporter": "python",
   "pygments_lexer": "ipython3",
   "version": "3.12.2"
  }
 },
 "nbformat": 4,
 "nbformat_minor": 5
}
