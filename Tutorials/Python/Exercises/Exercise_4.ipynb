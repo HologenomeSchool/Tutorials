{
 "cells": [
  {
   "cell_type": "markdown",
   "id": "37dc0339-fbd6-4e22-b0ce-6d01d2b73dfe",
   "metadata": {},
   "source": [
    "<h3>Question 1</h3> \n",
    "\n",
    "<p>Write a return function with two parameters, base and exponent. The function should then returns the base to the power of the exponent.</p>\n"
   ]
  },
  {
   "cell_type": "code",
   "execution_count": null,
   "id": "8e8aefea-167c-40fd-9a85-9c62acc375ff",
   "metadata": {},
   "outputs": [],
   "source": []
  },
  {
   "cell_type": "markdown",
   "id": "c6d2be53-2de8-4ad8-957d-c40229cab3ca",
   "metadata": {},
   "source": [
    "### Question 2 \n",
    "\n",
    "Write a function called printReverseNumTriangle, that accepts a number as its argument and prints a triangle of the size specified by number so that each row in the triangle is made up of the row number displayed. See the example bellow:\n",
    "<center><img src=\"../Images/triangle.png\"></center>\n"
   ]
  },
  {
   "cell_type": "code",
   "execution_count": null,
   "id": "cdb02597-8990-487f-86d2-93b02b546454",
   "metadata": {},
   "outputs": [],
   "source": []
  },
  {
   "cell_type": "markdown",
   "id": "0e82bacd-cb64-499d-8979-21f93267c78b",
   "metadata": {},
   "source": [
    "### Question 3 \n",
    "\n",
    "Write a simple guessing game for a user. This program should initially generate a random number between 1 and 100. \n",
    "\n",
    "It should then repeatedly ask the user to guess the random number. \n",
    "\n",
    "Each time the user enters a guess the program should tell them that their guess was too high, too low or correct. \n",
    "\n",
    "When the user finally guesses the correct number the program should tell the user how many guesses they made before arriving at the correct number. \n",
    "\n",
    "Your program should make use of the following methods:\n",
    "- generateRandomNumber. This function will generate a random number between 0 100 and return the result.\n",
    "- askUser. This function will ask the user to enter a guess and will return the result\n",
    "- checkGuess. This function will take in the users guess and the random number as parameters and will return True if the user entered the correct value and False otherwise. \n"
   ]
  },
  {
   "cell_type": "code",
   "execution_count": null,
   "id": "01482572-fdce-4d4c-ac2b-097c04cb5c59",
   "metadata": {},
   "outputs": [],
   "source": []
  },
  {
   "cell_type": "markdown",
   "id": "f7d48d79-c68b-4fb9-87fe-1f9133367014",
   "metadata": {},
   "source": [
    "<h3>Question 4</h3>\n",
    "<p>Write a function called findMax that takes a list of numbers as a parameter and returns the maximum value in the list, exactly like the max() function would do. Call the function with different lists of numbers to test it.</p>"
   ]
  },
  {
   "cell_type": "code",
   "execution_count": null,
   "id": "9894cdff-d1b8-4ef0-89df-d6cc1d5c9dd5",
   "metadata": {},
   "outputs": [],
   "source": []
  }
 ],
 "metadata": {
  "kernelspec": {
   "display_name": "Python 3 (ipykernel)",
   "language": "python",
   "name": "python3"
  },
  "language_info": {
   "codemirror_mode": {
    "name": "ipython",
    "version": 3
   },
   "file_extension": ".py",
   "mimetype": "text/x-python",
   "name": "python",
   "nbconvert_exporter": "python",
   "pygments_lexer": "ipython3",
   "version": "3.12.2"
  }
 },
 "nbformat": 4,
 "nbformat_minor": 5
}
