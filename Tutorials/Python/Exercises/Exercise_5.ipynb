{
 "cells": [
  {
   "cell_type": "markdown",
   "id": "2272dd17-3541-4250-b261-fc620eb4bd02",
   "metadata": {},
   "source": [
    "# Matplotlib\n"
   ]
  },
  {
   "cell_type": "markdown",
   "id": "812d66cf-1af8-4f8f-af44-ff1a20defc3f",
   "metadata": {},
   "source": [
    "Use the CSV file located in the dataset folder for this exercise. Read this file using Pandas or NumPy or using in-built matplotlib function, your choice.\n",
    "Attribute Information: \n",
    "The attributes recorded in the dataset are as follows: \n",
    "1.\tMonth\n",
    "2.\tfacecream\n",
    "3.\tfacewash\n",
    "4.\ttoothpaste\n",
    "5.\tbathingsoap\n",
    "6.\tshampoo\n",
    "7.\tmoisturizer \n",
    "8.\ttotal_units\n",
    "9.\ttotal_profit "
   ]
  },
  {
   "cell_type": "code",
   "execution_count": null,
   "id": "15c7c1c7-4d99-440a-a938-dfe7029d08ee",
   "metadata": {},
   "outputs": [],
   "source": []
  },
  {
   "cell_type": "markdown",
   "id": "95c481b5-fa0d-48b5-a1d9-ea40c6072df0",
   "metadata": {},
   "source": [
    "#### 1) Read Total profit of all months and show it using a line plot!"
   ]
  },
  {
   "cell_type": "code",
   "execution_count": null,
   "id": "0dccc7d1-b91e-4a3c-88f2-b358b9510f9d",
   "metadata": {},
   "outputs": [],
   "source": []
  },
  {
   "cell_type": "markdown",
   "id": "f57d074c-2061-4917-b420-8c11a52fbe0b",
   "metadata": {},
   "source": [
    "#### 2) Get total profit of all months and show line plot with the following Style properties, color red and dashed lines."
   ]
  },
  {
   "cell_type": "code",
   "execution_count": null,
   "id": "077be69c-a9a0-4286-b95e-b23327d2eea8",
   "metadata": {},
   "outputs": [],
   "source": []
  },
  {
   "cell_type": "markdown",
   "id": "ca263903-3c4d-4e08-8750-50db62f4239b",
   "metadata": {},
   "source": [
    "#### 3) Read toothpaste sales data of each month and show it using a scatter plot!"
   ]
  },
  {
   "cell_type": "code",
   "execution_count": null,
   "id": "cb46aed6-4ea9-4195-a466-3d0f7d1f8ba6",
   "metadata": {},
   "outputs": [],
   "source": []
  },
  {
   "cell_type": "markdown",
   "id": "99fe18bc-a7aa-4308-bc3b-a822bc654beb",
   "metadata": {},
   "source": [
    "#### 4) Read face cream and facewash product sales data and show it using the bar chart!"
   ]
  },
  {
   "cell_type": "markdown",
   "id": "0c3f6370-8634-4aa4-9f9f-875d12725782",
   "metadata": {},
   "source": []
  }
 ],
 "metadata": {
  "kernelspec": {
   "display_name": "Python 3 (ipykernel)",
   "language": "python",
   "name": "python3"
  },
  "language_info": {
   "codemirror_mode": {
    "name": "ipython",
    "version": 3
   },
   "file_extension": ".py",
   "mimetype": "text/x-python",
   "name": "python",
   "nbconvert_exporter": "python",
   "pygments_lexer": "ipython3",
   "version": "3.12.2"
  }
 },
 "nbformat": 4,
 "nbformat_minor": 5
}
