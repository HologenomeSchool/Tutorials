{
 "cells": [
  {
   "cell_type": "markdown",
   "id": "ac5c392f-8804-4091-8275-2cad18482927",
   "metadata": {},
   "source": [
    "<h3>Question 1</h3>\n",
    "<p>Write a program that will output the text “Hello There” to screen. Create a String variable to store your name and an int variable to store your age and print everything.</p>"
   ]
  },
  {
   "cell_type": "code",
   "execution_count": 5,
   "id": "806b5f55-ccd6-46d6-8909-230dea1d08c1",
   "metadata": {},
   "outputs": [
    {
     "name": "stdout",
     "output_type": "stream",
     "text": [
      "Hello There!\n"
     ]
    },
    {
     "name": "stdin",
     "output_type": "stream",
     "text": [
      "What is your name? Bruno\n",
      "And your age? 17\n"
     ]
    },
    {
     "name": "stdout",
     "output_type": "stream",
     "text": [
      "Your name is Bruno and you are 17 years old\n"
     ]
    }
   ],
   "source": []
  },
  {
   "cell_type": "markdown",
   "id": "594e1c95-4d92-43cf-82f8-6a6796692ffd",
   "metadata": {},
   "source": [
    "<h3>Question 2</h3>\n",
    "<p>Write a program that converts a distance to miles (Miles = Kilometres * 0.6214). The distance should be assigned to a variable called \"distance\".</p>"
   ]
  },
  {
   "cell_type": "code",
   "execution_count": 4,
   "id": "39813d3d-3777-4d8e-9395-bba32d76b589",
   "metadata": {},
   "outputs": [
    {
     "name": "stdin",
     "output_type": "stream",
     "text": [
      "Please, enter the distance in kilometers 10\n"
     ]
    },
    {
     "name": "stdout",
     "output_type": "stream",
     "text": [
      "The distance 10km is equivalent to 6.21\n"
     ]
    }
   ],
   "source": []
  },
  {
   "cell_type": "markdown",
   "id": "9fd79d44-8add-4d50-bf0f-34b1a39b370d",
   "metadata": {},
   "source": [
    "<h3>Question 3</h3>\n",
    "<p>Write a program to calculate and display a person’s body mass index (BMI). A persons BMI is calculated with the following formula:</p>\n",
    "\n",
    "$BMI = \\frac{weight}{height^{2}}$\n",
    "\n"
   ]
  },
  {
   "cell_type": "code",
   "execution_count": null,
   "id": "b1e38908-1f3a-4a39-9db5-b5126f62496f",
   "metadata": {},
   "outputs": [],
   "source": []
  },
  {
   "cell_type": "markdown",
   "id": "55e1c02b-fe9e-4428-b889-58f229bae429",
   "metadata": {},
   "source": [
    "<h3>Question 4</h3>\n",
    "<p>Now write a program to calculate the BMI using the metric scale (Google is your best friend) and calculate my BMI (Height: 1,67, Weight: 72kg).</p>"
   ]
  },
  {
   "cell_type": "code",
   "execution_count": null,
   "id": "620de765-1eb9-4ba2-8b58-c769bb91a102",
   "metadata": {},
   "outputs": [],
   "source": []
  },
  {
   "cell_type": "markdown",
   "id": "60c28670-ae5f-4913-b280-3e6f0d7aa28a",
   "metadata": {},
   "source": [
    "<h3>Question 5</h3>\n",
    "<p>There are three seating categories at a stadium. For a football games, Class A seat’s cost €25, Class B seat’s cost €20 and Class C seat’s cost €25. Write a program that asks how many tickets for each class of seats were sold, and then display the amount of income generated from ticket sales.</p>"
   ]
  },
  {
   "cell_type": "code",
   "execution_count": null,
   "id": "90709aaf-4df5-42a5-83fd-c50705d7edf4",
   "metadata": {},
   "outputs": [],
   "source": []
  },
  {
   "cell_type": "markdown",
   "id": "75b9dea3-1ce8-4160-8794-ad1ef157e8a5",
   "metadata": {},
   "source": [
    "<h3>Question 6</h3>\n",
    "<p>Write a program to calculate the area of a triangle with a given Height and Base. The Height and Base should be provided by the user.</p>\n",
    "\n",
    "#### The formulae is: $A = \\frac{h*b}{2}$"
   ]
  },
  {
   "cell_type": "code",
   "execution_count": null,
   "id": "807d2c17-f966-4bcc-b72e-f183bddd244a",
   "metadata": {},
   "outputs": [],
   "source": []
  }
 ],
 "metadata": {
  "kernelspec": {
   "display_name": "Python 3 (ipykernel)",
   "language": "python",
   "name": "python3"
  },
  "language_info": {
   "codemirror_mode": {
    "name": "ipython",
    "version": 3
   },
   "file_extension": ".py",
   "mimetype": "text/x-python",
   "name": "python",
   "nbconvert_exporter": "python",
   "pygments_lexer": "ipython3",
   "version": "3.12.2"
  }
 },
 "nbformat": 4,
 "nbformat_minor": 5
}
