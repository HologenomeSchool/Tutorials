{
 "cells": [
  {
   "cell_type": "code",
   "execution_count": null,
   "id": "acfd4f44-b7f9-4425-9dd6-c7e381ff5ae7",
   "metadata": {},
   "outputs": [],
   "source": []
  },
  {
   "cell_type": "markdown",
   "id": "3d5c48da-faf0-4013-9857-8979d92bd724",
   "metadata": {},
   "source": [
    "<h2>Lists</h2>"
   ]
  },
  {
   "cell_type": "markdown",
   "id": "6e20b9b7-8a3f-4277-a529-8d8998969b85",
   "metadata": {},
   "source": [
    "<h3>Question 1</h3>\n",
    "\n",
    "Create a list containing the numbers from 1 to 100 with a step of 10 (use the <strong>range</strong> function). Access and print the third element from the list. Modify the last element to \"<span style=\"color:orange\">Banana</span>\" and print the updated list.</p>"
   ]
  },
  {
   "cell_type": "code",
   "execution_count": 5,
   "id": "5f42377d-b6ad-462c-90af-b614cd0ae36a",
   "metadata": {},
   "outputs": [],
   "source": []
  },
  {
   "cell_type": "markdown",
   "id": "24fd55f5-57e5-4cb6-9054-c50e9237198b",
   "metadata": {},
   "source": [
    "<h3>Question 2</h3>\n",
    "<p>Create an empty list and append the values 3, 7 and 9 to the list. Insert the value 5 between 3 and 7. Pop the last value and remove the value 7. Print the final list</p>"
   ]
  },
  {
   "cell_type": "code",
   "execution_count": null,
   "id": "2b28090d-0706-4c22-a478-7575ca29ce26",
   "metadata": {},
   "outputs": [],
   "source": []
  },
  {
   "cell_type": "markdown",
   "id": "68a1f708-9b22-458e-8544-aa102a3bc4f0",
   "metadata": {},
   "source": [
    "<h3>Question 3</h3>\n",
    "<p>Create a list of numbers from 1 to 20. Use a for loop and conditional operators to create a new list containing only the even numbers from the original list. Print the new list.</p>"
   ]
  },
  {
   "cell_type": "code",
   "execution_count": null,
   "id": "996a85b7-58ac-4d16-891f-d28c8b212f73",
   "metadata": {},
   "outputs": [],
   "source": []
  },
  {
   "cell_type": "markdown",
   "id": "fe299b0c-188c-49c8-a028-ac3ff88e943e",
   "metadata": {},
   "source": [
    "<h2>Tuples</h2>"
   ]
  },
  {
   "cell_type": "markdown",
   "id": "11d9201e-495c-4925-adb0-b0c9d700abb0",
   "metadata": {},
   "source": [
    "<h3>Question 4</h3> \n",
    "Create two tuples containing the value 1,2,3 and 4,5,6. Concatenate these tuples into a single tuple and print the result."
   ]
  },
  {
   "cell_type": "code",
   "execution_count": null,
   "id": "3102b389-3dc8-49c9-8354-61e716684071",
   "metadata": {},
   "outputs": [],
   "source": []
  },
  {
   "cell_type": "markdown",
   "id": "c9b617a8-c438-4e25-91f7-afa4c44f03e1",
   "metadata": {},
   "source": [
    "<h3>Question 5</h3>\n",
    "\n",
    "<p>Create a tuple with three elements, 10, 20 and 30. Unpack the tuple into three variables: a, b and c. Print the variables individually.</p>"
   ]
  },
  {
   "cell_type": "code",
   "execution_count": null,
   "id": "1be66396-1852-4171-9c93-aa6b9b69a6b4",
   "metadata": {},
   "outputs": [],
   "source": []
  },
  {
   "cell_type": "markdown",
   "id": "12dc66a1-94d1-466d-b96a-2b41a2bf60cb",
   "metadata": {},
   "source": [
    "<h3>Question 6</h3>\n",
    "<p>Create a tuple with three elements, banana, apple and juice. Try to change the second element to Pineapple. Explain what happened.</p>"
   ]
  },
  {
   "cell_type": "code",
   "execution_count": null,
   "id": "e43f2c62-1a88-47a3-9e69-9ac15bb1b648",
   "metadata": {},
   "outputs": [],
   "source": []
  },
  {
   "cell_type": "markdown",
   "id": "c53c9142-975e-4098-ac25-748ace8091a4",
   "metadata": {},
   "source": [
    "<h2>Dictionaries</h2>"
   ]
  },
  {
   "cell_type": "markdown",
   "id": "31dcab8e-6b71-4147-bc85-1a5869e7c055",
   "metadata": {},
   "source": [
    "<h3>Question 7</h3>\n",
    "<p>Create a dictionary representing some movies from the Marvel Cinematic Universe with keys: Title, hero, year, and populate it. Print the value assigned to the key \"Title\". Add a new key-value pair for \"Budget\", populate it and print the updated dictionary.</p>"
   ]
  },
  {
   "cell_type": "code",
   "execution_count": null,
   "id": "823bb257-5e62-4fda-9edd-b8694f8bcb5c",
   "metadata": {},
   "outputs": [],
   "source": []
  },
  {
   "cell_type": "markdown",
   "id": "78146ab7-68ef-4c85-8e67-5bdf694c0dbc",
   "metadata": {},
   "source": [
    "<h3>Question 8</h3>\n",
    "<p>Create a dictionary where the keys are months and the values are season of that month. Print each month and it's corresponding season using a for loop.</p>"
   ]
  },
  {
   "cell_type": "code",
   "execution_count": null,
   "id": "76238972-59c0-4800-a845-9310315535eb",
   "metadata": {},
   "outputs": [],
   "source": []
  },
  {
   "cell_type": "markdown",
   "id": "7ee652b2-9649-45d1-8c38-b8469fd32b60",
   "metadata": {},
   "source": [
    "<h3>Question 9</h3>\n",
    "\n",
    "<p>Create two lists, one containing the name of five bacterial species and the other their genome sizes. Use a loop to create a dictionary from these lists, where the bacterial species are the keys and the genome sizes are the values. Print the resulting dictionary.</p>"
   ]
  },
  {
   "cell_type": "code",
   "execution_count": null,
   "id": "82e0bf25-1121-4c63-8bb3-d75d82d185d9",
   "metadata": {},
   "outputs": [],
   "source": []
  },
  {
   "cell_type": "markdown",
   "id": "66c773ee-75c0-49ed-bf36-c821f3c89ddc",
   "metadata": {},
   "source": [
    "<h2>Sets</h2>"
   ]
  },
  {
   "cell_type": "markdown",
   "id": "b3f37c45-e953-480c-ad68-2c60776c108d",
   "metadata": {},
   "source": [
    "<h3>Question 10</h3>\n",
    "<p>Create two sets: {1,2,3,4} and {3,4,5,6}. Find and print the union of these sets and find and print the intersection of these sets.</p>"
   ]
  },
  {
   "cell_type": "code",
   "execution_count": null,
   "id": "a2330ea0-9858-4eaa-a855-912473e99b9e",
   "metadata": {},
   "outputs": [],
   "source": []
  },
  {
   "cell_type": "markdown",
   "id": "22d70f00-61fd-41de-ae39-e4f80339b249",
   "metadata": {},
   "source": [
    "<h3>Question 11</h3>\n",
    "<p>Create two sets: {10,20,30,40} and {30,40,50,60} and print the difference between the first and second sets.</p>"
   ]
  },
  {
   "cell_type": "code",
   "execution_count": null,
   "id": "006d0c12-116c-4dd1-aeec-5855b56fe1c0",
   "metadata": {},
   "outputs": [],
   "source": []
  },
  {
   "cell_type": "markdown",
   "id": "0c809e10-58f5-4527-b025-95fae88b58a5",
   "metadata": {},
   "source": [
    "<h3>Question 12</h3>\n",
    "<p>Create a list with repeated elements, such as [1,2,2,3,4,4,5]. Convert the list into a set and print it. What happened?</p>"
   ]
  },
  {
   "cell_type": "code",
   "execution_count": null,
   "id": "5b9c5ddf-6953-4f00-a750-6b3ada5f3d53",
   "metadata": {},
   "outputs": [],
   "source": []
  }
 ],
 "metadata": {
  "kernelspec": {
   "display_name": "Python 3 (ipykernel)",
   "language": "python",
   "name": "python3"
  },
  "language_info": {
   "codemirror_mode": {
    "name": "ipython",
    "version": 3
   },
   "file_extension": ".py",
   "mimetype": "text/x-python",
   "name": "python",
   "nbconvert_exporter": "python",
   "pygments_lexer": "ipython3",
   "version": "3.12.2"
  }
 },
 "nbformat": 4,
 "nbformat_minor": 5
}
