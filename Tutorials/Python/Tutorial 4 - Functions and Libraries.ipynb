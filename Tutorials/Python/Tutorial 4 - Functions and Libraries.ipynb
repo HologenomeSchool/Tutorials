{
 "cells": [
  {
   "cell_type": "markdown",
   "id": "bdb1f93a-df11-4c7b-befe-5abe5e0f79a3",
   "metadata": {},
   "source": [
    "<div style=\"padding-top:10px;padding-bottom:10px;\">\n",
    "    <h2>Functions:</h2>\n",
    "    <p>Up until now you guys learned lots of Python stuff.</p>\n",
    "    <p>But you must have realized now that, coding the same stuff over and over is...</p>\n",
    "    <p><center><img src=\"Images/boring.png\"></center></p>\n",
    "</div>"
   ]
  },
  {
   "attachments": {},
   "cell_type": "markdown",
   "id": "12c35816-15ee-4f91-9ce0-d5eaf297237b",
   "metadata": {},
   "source": [
    "<div style=\"padding-top:10px;padding-bottom:10px;\">\n",
    "    <h4>Programming is about automatic processes</h4>\n",
    "    <p>Functions exists because of this, they allow you to re-use a piece of code anywhere. Python has several built-in functions, like print, and we used a bunch of them already, but now we will learn how to build our own custm functions</p>\n",
    "        <p>The syntax used to build a function is:</p>\n",
    "    <p><center><img src=\"Images/function1.png\"></center></p>\n",
    "    <p>Let's see how it works, let's create a function to print <strong>\"Helloworld\"</strong></p>\n",
    "</div>"
   ]
  },
  {
   "cell_type": "code",
   "execution_count": 2,
   "id": "8a92a08a-7ad9-4765-b452-d7f5ec8b49d9",
   "metadata": {},
   "outputs": [
    {
     "name": "stdout",
     "output_type": "stream",
     "text": [
      "Hello World!\n"
     ]
    }
   ],
   "source": [
    "def helloWorld():\n",
    "    print(\"Hello World!\")\n",
    "\n",
    "\n",
    "helloWorld()"
   ]
  },
  {
   "cell_type": "markdown",
   "id": "d510c931-71c1-4720-b7e8-d9a6ffed15f7",
   "metadata": {},
   "source": [
    "<div style=\"padding-top:10px;padding-bottom:10px;\">\n",
    "    <p>What happened here is that we created a function and added a single statement. This statement called the built-in function print and printed something.</p>\n",
    "    <p>Since our function doesn't have any attribute (We don't need to feed any information to it), we can just called it as helloWorld() ANYWHERE!!!</p>\n",
    "    <p>A function can have as many statements as needed and can call other functions as well, we will talk more about that soon.</p>\n",
    "    <p>But what are the advantages of using functions?</p>\n",
    "    <ul>\n",
    "        <li>Your code ir more organized!</li>\n",
    "        <li>And because of that it's easier to read.</li>\n",
    "        <li>And because of that it's easier to maintain.</li>\n",
    "        <li>Code reuse</li>\n",
    "        <ul><li>You can write the code once and call it multiple times</li></ul>\n",
    "    </ul>\n",
    "                                                          \n",
    "</div>"
   ]
  },
  {
   "cell_type": "markdown",
   "id": "d93ae9d0-2b0d-4ffa-9958-07cd33df3b3a",
   "metadata": {},
   "source": [
    "<div style=\"padding-top:10px;padding-bottom:10px;\">\n",
    "    <p><strong>Let's go back a little bit:</strong><p>\n",
    "    <p>You can't name a function whatever you want (Actually you can, but it's not a good idea.</p>\n",
    "        <p>A function name should be descriptive of the task that the function will tackle, thus, specifying what the function will do.</p>\n",
    "    <p><center><img src=\"Images/function2.png\"></center></p>\n",
    "    \n",
    "</div>"
   ]
  },
  {
   "cell_type": "markdown",
   "id": "c56c0728-3b54-43e2-b8ef-732b1ac18dfb",
   "metadata": {},
   "source": [
    " "
   ]
  },
  {
   "attachments": {},
   "cell_type": "markdown",
   "id": "07dfb76a-9a3b-43ac-ad48-827401c593bf",
   "metadata": {},
   "source": [
    "<div style=\"padding-top:10px;padding-bottom:10px;\">\n",
    "    <p>When we called the function helloWorld, the following <strong>happened:</strong><p>\n",
    "    <ul>\n",
    "        <li>The interpreter will jump to the function and executes the statements in the block.</li>\n",
    "        <li>The interpreter will jump back to the part of the program that called the function.</li>\n",
    "        <ul><li>This is known as function return.</li></ul>\n",
    "    </ul>\n",
    "    <p><center><img src=\"Images/function3.png\"></center></p>\n",
    "    \n",
    "</div>"
   ]
  },
  {
   "attachments": {},
   "cell_type": "markdown",
   "id": "cdb1019a-6c0f-4d5f-8def-4ac59c743d9d",
   "metadata": {},
   "source": [
    "<div style=\"padding-top:10px;padding-bottom:10px;\">\n",
    "    <p>The order of execution is also important, you can't call a function without creating it first:</p>\n",
    "    \n",
    "</div>"
   ]
  },
  {
   "cell_type": "code",
   "execution_count": 3,
   "id": "805b69a9-e8fb-4d1b-9335-49b8b4eb3c64",
   "metadata": {},
   "outputs": [
    {
     "ename": "NameError",
     "evalue": "name 'farewell' is not defined",
     "output_type": "error",
     "traceback": [
      "\u001b[0;31m---------------------------------------------------------------------------\u001b[0m",
      "\u001b[0;31mNameError\u001b[0m                                 Traceback (most recent call last)",
      "Cell \u001b[0;32mIn[3], line 1\u001b[0m\n\u001b[0;32m----> 1\u001b[0m \u001b[43mfarewell\u001b[49m()\n\u001b[1;32m      3\u001b[0m \u001b[38;5;28;01mdef\u001b[39;00m \u001b[38;5;21mfarewell\u001b[39m():\n\u001b[1;32m      4\u001b[0m     \u001b[38;5;28mprint\u001b[39m(\u001b[38;5;124m\"\u001b[39m\u001b[38;5;124mGoodBye\u001b[39m\u001b[38;5;124m\"\u001b[39m)\n",
      "\u001b[0;31mNameError\u001b[0m: name 'farewell' is not defined"
     ]
    }
   ],
   "source": [
    "farewell()\n",
    "\n",
    "def farewell():\n",
    "    print(\"GoodBye\")"
   ]
  },
  {
   "cell_type": "markdown",
   "id": "ee616b59-fc8d-4201-9761-fb0f0f974a93",
   "metadata": {},
   "source": [
    " "
   ]
  },
  {
   "cell_type": "markdown",
   "id": "84f90d06-9c7b-40ba-b117-dc1bd78c01ec",
   "metadata": {},
   "source": [
    "<div style=\"padding-top:10px;padding-bottom:10px;\">\n",
    "    <h4>Local variables:</h4>\n",
    "    <p>Local Variables are variables that only exists inside the function, and they can't be accessed from outside if the function itself doesn't return it in the first place</p>\n",
    "        <p>Let's check this example</p>\n",
    "    \n",
    "</div>"
   ]
  },
  {
   "cell_type": "code",
   "execution_count": 5,
   "id": "8d012100-24cf-4a47-b5f1-e4b923567bee",
   "metadata": {},
   "outputs": [
    {
     "name": "stdout",
     "output_type": "stream",
     "text": [
      "Pizza\n",
      "Banana\n"
     ]
    }
   ],
   "source": [
    "food = \"Banana\"\n",
    "\n",
    "def favouriteFood():\n",
    "    food = \"Pizza\"\n",
    "    print(food)\n",
    "\n",
    "favouriteFood()\n",
    "print(food)"
   ]
  },
  {
   "cell_type": "markdown",
   "id": "81fde5fb-e17a-4f07-8827-37eddd43671e",
   "metadata": {},
   "source": [
    "<div style=\"padding-top:10px;padding-bottom:10px;\">\n",
    "    <p>What happened here is that the first food variable exists outside the function space, which is also known as a <strong style=\"color:blue;\">global variable</strong>. Normally the function itself would not be blind to it but, when we create a local variable inside the favouriteFood function with the same name, the function will give preference to the local variable, because it's closer to it, however, if we didn't have a local variable...</p>\n",
    "    <p>A variable that will only exists while the function is being executed. With that said, it's more than possible to pass a value or an external variable to the function through the use of <strong>arguments<strong>.</p>\n",
    "    <p><strong>Argument:</strong> It's a piece of information provided to the function when calling the function, the syntax is:</p>\n",
    "    <p><center><strong>whateverFunctionName(argument)</strong></center></p>\n",
    "    <p><strong>Parameter:</strong> It's a variable that is assigned the value of an argument when the function is called. The parameter and the argument reference the same value, and the syntax is the following when creating your functions:</p>\n",
    "        <p><center><strong>def whateverFunctionName(parameter)</strong></center></p>\n",
    "    <p>It will be easier to understand with the next example:</p>\n",
    "</div>"
   ]
  },
  {
   "cell_type": "code",
   "execution_count": 10,
   "id": "aea6487d-1085-4e1c-b58d-ae38d74eda96",
   "metadata": {},
   "outputs": [
    {
     "name": "stdout",
     "output_type": "stream",
     "text": [
      "Banana\n",
      "Banana\n"
     ]
    }
   ],
   "source": [
    "food = \"Banana\"\n",
    "\n",
    "def favouriteFood():\n",
    "    print(food)\n",
    "\n",
    "favouriteFood()\n",
    "print(food)"
   ]
  },
  {
   "cell_type": "markdown",
   "id": "8e8c9791-e902-492b-89d1-01ab670ddc55",
   "metadata": {},
   "source": [
    "<div style=\"padding-top:10px;padding-bottom:10px;\">\n",
    "    <p>A local variable will only exists while the function is being executed. With that said, it's more than possible to pass a value or an external variable to the function through the use of <strong>arguments<strong>.</p>\n",
    "    <p><strong>Argument:</strong> It's a piece of information provided to the function when calling the function, the syntax is:</p>\n",
    "    <p><center><strong>whateverFunctionName(argument)</strong></center></p>\n",
    "    <p><strong>Parameter:</strong> It's a variable that is assigned the value of an argument when the function is called. The parameter and the argument reference the same value, and the syntax is the following when creating your functions:</p>\n",
    "        <p><center><strong>def whateverFunctionName(parameter)</strong></center></p>\n",
    "    <p>It will be easier to understand with the next example:</p>\n",
    "</div>"
   ]
  },
  {
   "cell_type": "code",
   "execution_count": 6,
   "id": "e1c20fc2-4474-4e7a-948f-bbbeb7c38a9f",
   "metadata": {},
   "outputs": [
    {
     "name": "stdout",
     "output_type": "stream",
     "text": [
      "100\n"
     ]
    }
   ],
   "source": [
    "def powerOfNumber(number): #number is the parameter\n",
    "    print(number**2)\n",
    "\n",
    "powerOfNumber(10) #This is the argument"
   ]
  },
  {
   "cell_type": "markdown",
   "id": "2233f6fa-8e25-48e8-b798-0ee25fc9c594",
   "metadata": {},
   "source": [
    "<div style=\"padding-top:10px;padding-bottom:10px;\">\n",
    "    <h4>Using multiple arguments</h4>\n",
    "    <p>You can pass more than one argument by separating the arguments by comma.</p>\n",
    "    <p>The number of arguments have to match the number of parameters and they will be assigned in an ordered way.</p>\n",
    "    <p>The first parameter will receive the value of the first argument, the second parameter of the second argument, and so on.</p>\n",
    "    <p>Let's make use of it to create a function to calculate the area of a rectangle:</p>\n",
    "</div>"
   ]
  },
  {
   "cell_type": "code",
   "execution_count": 9,
   "id": "a3955388-4eca-4bd3-b8ad-9120539083b3",
   "metadata": {},
   "outputs": [
    {
     "name": "stdout",
     "output_type": "stream",
     "text": [
      "The area of the rectangle is 50.\n"
     ]
    }
   ],
   "source": [
    "def calculateArea(recLength, recWidth):\n",
    "    print(f\"The area of the rectangle is {recLength*recWidth}.\")\n",
    "\n",
    "calculateArea(5, 10)"
   ]
  },
  {
   "cell_type": "markdown",
   "id": "5f758073-7360-4653-aed0-34ec0a33351f",
   "metadata": {},
   "source": [
    "***\n",
    "\n",
    "<div style=\"padding-top:10px;padding-bottom:10px;\">\n",
    "    <h4>Value-returning functions:</h4>\n",
    "    <p>Functions can do so much more than just print something, functions are use to do computation! And as such, they should return the resulting value</p>\n",
    "    <p>A value-returning function is simply a function that returns something to the part of the program that called it, so the program can do something with that particular value by the use of the <strong>return</strong> keyword.</p>\n",
    "    <p>let's improve the calculateArea function to return the value, and then we can do something with it, like multiplying it by 2.</p>\n",
    "</div>"
   ]
  },
  {
   "cell_type": "code",
   "execution_count": 12,
   "id": "8c6ed049-777f-490a-a93f-417c1ee9a7d7",
   "metadata": {},
   "outputs": [
    {
     "name": "stdout",
     "output_type": "stream",
     "text": [
      "100\n"
     ]
    }
   ],
   "source": [
    "def calculateArea(recLength, recWidth):\n",
    "    area = recLength*recWidth\n",
    "    return area\n",
    "\n",
    "#Now we call the function by assigning it to a variable\n",
    "\n",
    "newArea = calculateArea(5,10)\n",
    "print(newArea*2)"
   ]
  },
  {
   "cell_type": "markdown",
   "id": "506e6f21-94a9-405a-aef6-75c3dfea1d92",
   "metadata": {
    "jp-MarkdownHeadingCollapsed": true
   },
   "source": [
    "<div style=\"padding-top:10px;padding-bottom:10px;\">\n",
    "    <p>We can simplify this function, making it more <em>pythonic</em> (And yes, this term is a thing:</p>\n",
    "</div>"
   ]
  },
  {
   "cell_type": "code",
   "execution_count": 14,
   "id": "99043815-05b0-4916-9247-f66df2648f48",
   "metadata": {},
   "outputs": [
    {
     "name": "stdout",
     "output_type": "stream",
     "text": [
      "100\n"
     ]
    }
   ],
   "source": [
    "def calculateArea(recLength, recWidth):\n",
    "    return recLength*recWidth\n",
    "\n",
    "newArea = calculateArea(5,10)\n",
    "print(newArea*2)"
   ]
  },
  {
   "cell_type": "markdown",
   "id": "1b63f459-09dc-4733-bd4c-d66c01aa06d6",
   "metadata": {},
   "source": [
    "<div style=\"padding-top:10px;padding-bottom:10px;\">\n",
    "    <h4>Returning boolean variables:</h4>\n",
    "    <p>You know by now that boolean variables are binary variables, right? True or False?</p>\n",
    "    <p>Let's create a function to clasify a number as an even or odd number:</p>\n",
    "</div>"
   ]
  },
  {
   "cell_type": "code",
   "execution_count": 16,
   "id": "deecccb6-eceb-40a0-a17a-21070e7625b6",
   "metadata": {},
   "outputs": [
    {
     "name": "stdout",
     "output_type": "stream",
     "text": [
      "Is the number even? False\n"
     ]
    }
   ],
   "source": [
    "def isEven(number):\n",
    "    if (number % 2) ==0:\n",
    "        status = True\n",
    "    else:\n",
    "        status = False\n",
    "    return status\n",
    "\n",
    "answer = isEven(121)\n",
    "\n",
    "print(f\"Is the number even? {answer}\")"
   ]
  },
  {
   "cell_type": "markdown",
   "id": "1881f502-7ae5-4a96-a78b-ddb49ed59471",
   "metadata": {},
   "source": [
    "<p>Let's simplify the code</p>"
   ]
  },
  {
   "cell_type": "code",
   "execution_count": 17,
   "id": "adfeafbe-e0c0-453b-a11a-855fde293508",
   "metadata": {},
   "outputs": [
    {
     "name": "stdout",
     "output_type": "stream",
     "text": [
      "Is the number even? False\n"
     ]
    }
   ],
   "source": [
    "def isEven(number):\n",
    "    if (number % 2) ==0:\n",
    "        return True\n",
    "    else:\n",
    "        return False\n",
    "\n",
    "answer = isEven(121)\n",
    "\n",
    "print(f\"Is the number even? {answer}\")"
   ]
  },
  {
   "cell_type": "markdown",
   "id": "6c64f2ad-1f0e-47fd-834f-0722e8893fc2",
   "metadata": {},
   "source": [
    "<p>Let's simplify more because programmers ar lazy!</p>"
   ]
  },
  {
   "cell_type": "code",
   "execution_count": 18,
   "id": "631c7b3a-da3a-4226-84f1-e823202420d5",
   "metadata": {},
   "outputs": [
    {
     "name": "stdout",
     "output_type": "stream",
     "text": [
      "Is the number even? False\n"
     ]
    }
   ],
   "source": [
    "def isEven(number):\n",
    "    return (number%2==0)\n",
    "\n",
    "answer = isEven(121)\n",
    "\n",
    "print(f\"Is the number even? {answer}\")"
   ]
  },
  {
   "cell_type": "markdown",
   "id": "d0556831-efc1-42a1-a544-e1a350b6eeb1",
   "metadata": {},
   "source": [
    "<div style=\"padding-top:10px;padding-bottom:10px;\">\n",
    "    <h4>Returning multiple variables:</h4>\n",
    "    <p>You can also return multiple values, but obviously they need to be separated by commas, the syntax is:</p>\n",
    "    <p><center><strong>return value1, value2...</strong></center></p>\n",
    "    <p>Check this example</p>\n",
    "</div>"
   ]
  },
  {
   "cell_type": "code",
   "execution_count": 20,
   "id": "d416a28d-f42f-454b-84fd-6780a6c2eab4",
   "metadata": {},
   "outputs": [
    {
     "name": "stdout",
     "output_type": "stream",
     "text": [
      "The best captain is called JeanLuc Picard\n"
     ]
    }
   ],
   "source": [
    "def bestCaptain(first, last):\n",
    "    return first,last\n",
    "\n",
    "firstName, lastName = bestCaptain(\"JeanLuc\", \"Picard\") #here we are unpacking the returning variables into two variables\n",
    "print(f\"The best captain is called {firstName} {lastName}\")\n"
   ]
  },
  {
   "cell_type": "markdown",
   "id": "68c35414-1891-4d4d-9d47-66f45ddfeba5",
   "metadata": {},
   "source": [
    "***\n",
    "\n",
    "<div style=\"padding-top:10px;padding-bottom:10px;\">\n",
    "    <h2>Libraries:</h2>\n",
    "    <p>Imagine a library as a place where lots of books are kept for people to read and use whenever they need. In the programming world, a \"library\" works in a similar way. It’s a collection of ready-made code that programmers can use in their own programs to help them perform specific tasks without having to write the code from scratch.</p>\n",
    "    <p>Besides this ready-made code, programming libraries can also include helpful information, setup files, templates for messages, classes for organizing data, and other useful tools. Just like a book library makes it easier to find and use books, a programming library makes it easier to find and use pieces of code.</p>\n",
    "</div>"
   ]
  },
  {
   "cell_type": "markdown",
   "id": "299d27aa-ecad-4a89-89e6-bf2420c2e318",
   "metadata": {},
   "source": [
    "<div style=\"padding-top:10px;padding-bottom:10px;\">\n",
    "    <p>Python has it's own set of standard libraries, including code needed to build strings, numbers (those are loaded whenever you load the interpreter, and libraries, such as math, random and matplotlib that you need to import yourself.</p>\n",
    "    <p>As an example, let's import a library called math and constant Pi to calculate the area of a circle with radius of 2. We can of course write Pi as 3.14, but we have a much more precise constant in python.</p>\n",
    "    <p>To import a library, we need to use the keyword <strong style=\"color:green;\">import</strong> followed by the name of the library.</p>\n",
    "</div>"
   ]
  },
  {
   "cell_type": "code",
   "execution_count": 23,
   "id": "f49819e7-e8a2-456d-8f34-1fafa02d3ba7",
   "metadata": {},
   "outputs": [
    {
     "name": "stdout",
     "output_type": "stream",
     "text": [
      "3.141592653589793\n",
      "The area of the circle with radius 2 is 12.566370614359172\n"
     ]
    }
   ],
   "source": [
    "import math\n",
    "print(math.pi)\n",
    "\n",
    "area = math.pi*(2**2)\n",
    "\n",
    "print(f\"The area of the circle with radius 2 is {area}\")"
   ]
  },
  {
   "cell_type": "markdown",
   "id": "4fd94d8a-f3ae-490a-918c-736e03855eb7",
   "metadata": {},
   "source": [
    "<p>I don't know about you, but I'm not a huge fan of large float numbers, so, let's round this a little bit with the <strong>round</strong> function</p>"
   ]
  },
  {
   "cell_type": "code",
   "execution_count": 24,
   "id": "ac852a0a-e6cc-4dec-87b7-2b0452ccd482",
   "metadata": {},
   "outputs": [
    {
     "name": "stdout",
     "output_type": "stream",
     "text": [
      "The area of the circle with radius 2 is 12.57\n"
     ]
    }
   ],
   "source": [
    "print(f\"The area of the circle with radius 2 is {round(area,2)}\")"
   ]
  },
  {
   "cell_type": "markdown",
   "id": "3859e1c5-60be-4522-813c-23d554343c4e",
   "metadata": {},
   "source": [
    "<div style=\"padding-top:10px;padding-bottom:10px;\">\n",
    "    <p>You can import a library with a nickname to simplify things.</p>\n",
    "    <p>We are going to import the library matplotlib.pyplot and use it to print a line:.</p>\n",
    "</div>"
   ]
  },
  {
   "cell_type": "code",
   "execution_count": 26,
   "id": "d20cfb0c-bf6d-4e42-b54f-c17962cefcad",
   "metadata": {},
   "outputs": [
    {
     "ename": "ModuleNotFoundError",
     "evalue": "No module named 'matplotlib'",
     "output_type": "error",
     "traceback": [
      "\u001b[0;31m---------------------------------------------------------------------------\u001b[0m",
      "\u001b[0;31mModuleNotFoundError\u001b[0m                       Traceback (most recent call last)",
      "Cell \u001b[0;32mIn[26], line 1\u001b[0m\n\u001b[0;32m----> 1\u001b[0m \u001b[38;5;28;01mimport\u001b[39;00m \u001b[38;5;21;01mmatplotlib\u001b[39;00m\u001b[38;5;21;01m.\u001b[39;00m\u001b[38;5;21;01mpyplot\u001b[39;00m \u001b[38;5;28;01mas\u001b[39;00m \u001b[38;5;21;01mplt\u001b[39;00m\n\u001b[1;32m      3\u001b[0m listToPrint \u001b[38;5;241m=\u001b[39m \u001b[38;5;28mlist\u001b[39m(\u001b[38;5;28mrange\u001b[39m(\u001b[38;5;241m10\u001b[39m))\n\u001b[1;32m      4\u001b[0m \u001b[38;5;28mprint\u001b[39m(listToPrint)\n",
      "\u001b[0;31mModuleNotFoundError\u001b[0m: No module named 'matplotlib'"
     ]
    }
   ],
   "source": [
    "import matplotlib.pyplot as plt"
   ]
  },
  {
   "cell_type": "markdown",
   "id": "331b064b-edb0-4b89-99f0-6a3890cf12b6",
   "metadata": {},
   "source": [
    "<div style=\"padding-top:10px;padding-bottom:10px;\">\n",
    "    <p>As you can see, sadly we don't have the library installed. What to do?</p>\n",
    "    <p>We can easily install the library using the <strong>pip</strong> system, as long as you know the librarie's name</p>\n",
    "    <p>You can always check the libraries names and version <a href=https://pypi.org/> here</a>.</p>\n",
    "    <p>Anyway, let's install MatplotLib!</p>\n",
    "</div>"
   ]
  },
  {
   "cell_type": "code",
   "execution_count": 27,
   "id": "1c9408b8-1638-4819-ae79-9bc4444d3514",
   "metadata": {},
   "outputs": [
    {
     "name": "stdout",
     "output_type": "stream",
     "text": [
      "Collecting matplotlib\n",
      "  Downloading matplotlib-3.9.0-cp312-cp312-macosx_11_0_arm64.whl.metadata (11 kB)\n",
      "Collecting contourpy>=1.0.1 (from matplotlib)\n",
      "  Downloading contourpy-1.2.1-cp312-cp312-macosx_11_0_arm64.whl.metadata (5.8 kB)\n",
      "Collecting cycler>=0.10 (from matplotlib)\n",
      "  Downloading cycler-0.12.1-py3-none-any.whl.metadata (3.8 kB)\n",
      "Collecting fonttools>=4.22.0 (from matplotlib)\n",
      "  Downloading fonttools-4.53.0-cp312-cp312-macosx_11_0_arm64.whl.metadata (162 kB)\n",
      "\u001b[2K     \u001b[90m━━━━━━━━━━━━━━━━━━━━━━━━━━━━━━━━━━━━━━━\u001b[0m \u001b[32m162.2/162.2 kB\u001b[0m \u001b[31m5.1 MB/s\u001b[0m eta \u001b[36m0:00:00\u001b[0m\n",
      "\u001b[?25hCollecting kiwisolver>=1.3.1 (from matplotlib)\n",
      "  Downloading kiwisolver-1.4.5-cp312-cp312-macosx_11_0_arm64.whl.metadata (6.4 kB)\n",
      "Collecting numpy>=1.23 (from matplotlib)\n",
      "  Downloading numpy-2.0.0-cp312-cp312-macosx_14_0_arm64.whl.metadata (60 kB)\n",
      "\u001b[2K     \u001b[90m━━━━━━━━━━━━━━━━━━━━━━━━━━━━━━━━━━━━━━━━\u001b[0m \u001b[32m60.9/60.9 kB\u001b[0m \u001b[31m7.5 MB/s\u001b[0m eta \u001b[36m0:00:00\u001b[0m\n",
      "\u001b[?25hRequirement already satisfied: packaging>=20.0 in /opt/miniconda3/lib/python3.12/site-packages (from matplotlib) (23.2)\n",
      "Collecting pillow>=8 (from matplotlib)\n",
      "  Downloading pillow-10.3.0-cp312-cp312-macosx_11_0_arm64.whl.metadata (9.2 kB)\n",
      "Collecting pyparsing>=2.3.1 (from matplotlib)\n",
      "  Downloading pyparsing-3.1.2-py3-none-any.whl.metadata (5.1 kB)\n",
      "Requirement already satisfied: python-dateutil>=2.7 in /opt/miniconda3/lib/python3.12/site-packages (from matplotlib) (2.9.0)\n",
      "Requirement already satisfied: six>=1.5 in /opt/miniconda3/lib/python3.12/site-packages (from python-dateutil>=2.7->matplotlib) (1.16.0)\n",
      "Downloading matplotlib-3.9.0-cp312-cp312-macosx_11_0_arm64.whl (7.8 MB)\n",
      "\u001b[2K   \u001b[90m━━━━━━━━━━━━━━━━━━━━━━━━━━━━━━━━━━━━━━━━\u001b[0m \u001b[32m7.8/7.8 MB\u001b[0m \u001b[31m29.8 MB/s\u001b[0m eta \u001b[36m0:00:00\u001b[0m00:01\u001b[0m00:01\u001b[0m\n",
      "\u001b[?25hDownloading contourpy-1.2.1-cp312-cp312-macosx_11_0_arm64.whl (245 kB)\n",
      "\u001b[2K   \u001b[90m━━━━━━━━━━━━━━━━━━━━━━━━━━━━━━━━━━━━━━━━\u001b[0m \u001b[32m245.3/245.3 kB\u001b[0m \u001b[31m22.2 MB/s\u001b[0m eta \u001b[36m0:00:00\u001b[0m\n",
      "\u001b[?25hDownloading cycler-0.12.1-py3-none-any.whl (8.3 kB)\n",
      "Downloading fonttools-4.53.0-cp312-cp312-macosx_11_0_arm64.whl (2.2 MB)\n",
      "\u001b[2K   \u001b[90m━━━━━━━━━━━━━━━━━━━━━━━━━━━━━━━━━━━━━━━━\u001b[0m \u001b[32m2.2/2.2 MB\u001b[0m \u001b[31m38.2 MB/s\u001b[0m eta \u001b[36m0:00:00\u001b[0ma \u001b[36m0:00:01\u001b[0m\n",
      "\u001b[?25hDownloading kiwisolver-1.4.5-cp312-cp312-macosx_11_0_arm64.whl (64 kB)\n",
      "\u001b[2K   \u001b[90m━━━━━━━━━━━━━━━━━━━━━━━━━━━━━━━━━━━━━━━━\u001b[0m \u001b[32m65.0/65.0 kB\u001b[0m \u001b[31m8.1 MB/s\u001b[0m eta \u001b[36m0:00:00\u001b[0m\n",
      "\u001b[?25hDownloading numpy-2.0.0-cp312-cp312-macosx_14_0_arm64.whl (5.0 MB)\n",
      "\u001b[2K   \u001b[90m━━━━━━━━━━━━━━━━━━━━━━━━━━━━━━━━━━━━━━━━\u001b[0m \u001b[32m5.0/5.0 MB\u001b[0m \u001b[31m44.2 MB/s\u001b[0m eta \u001b[36m0:00:00\u001b[0m00:01\u001b[0m00:01\u001b[0m\n",
      "\u001b[?25hDownloading pillow-10.3.0-cp312-cp312-macosx_11_0_arm64.whl (3.4 MB)\n",
      "\u001b[2K   \u001b[90m━━━━━━━━━━━━━━━━━━━━━━━━━━━━━━━━━━━━━━━━\u001b[0m \u001b[32m3.4/3.4 MB\u001b[0m \u001b[31m41.8 MB/s\u001b[0m eta \u001b[36m0:00:00\u001b[0m00:01\u001b[0m00:01\u001b[0m\n",
      "\u001b[?25hDownloading pyparsing-3.1.2-py3-none-any.whl (103 kB)\n",
      "\u001b[2K   \u001b[90m━━━━━━━━━━━━━━━━━━━━━━━━━━━━━━━━━━━━━━━━\u001b[0m \u001b[32m103.2/103.2 kB\u001b[0m \u001b[31m11.4 MB/s\u001b[0m eta \u001b[36m0:00:00\u001b[0m\n",
      "\u001b[?25hInstalling collected packages: pyparsing, pillow, numpy, kiwisolver, fonttools, cycler, contourpy, matplotlib\n",
      "Successfully installed contourpy-1.2.1 cycler-0.12.1 fonttools-4.53.0 kiwisolver-1.4.5 matplotlib-3.9.0 numpy-2.0.0 pillow-10.3.0 pyparsing-3.1.2\n"
     ]
    }
   ],
   "source": [
    "!pip install matplotlib"
   ]
  },
  {
   "cell_type": "markdown",
   "id": "999222fa-6ab2-4dbb-94bf-3128b2692491",
   "metadata": {},
   "source": [
    "<div style=\"padding-top:10px;padding-bottom:10px;\">\n",
    "    <p>Now that the library is installed, we can import it normally.</p>\n",
    "</div>"
   ]
  },
  {
   "cell_type": "code",
   "execution_count": 29,
   "id": "59af4b37-994c-47d9-b7ba-f857cb9213bb",
   "metadata": {},
   "outputs": [
    {
     "data": {
      "text/plain": [
       "[<matplotlib.lines.Line2D at 0x112d83590>]"
      ]
     },
     "execution_count": 29,
     "metadata": {},
     "output_type": "execute_result"
    },
    {
     "data": {
      "image/png": "[encoded data removed]",
      "text/plain": [
       "<Figure size 640x480 with 1 Axes>"
      ]
     },
     "metadata": {},
     "output_type": "display_data"
    }
   ],
   "source": [
    "import matplotlib.pyplot as plt\n",
    "\n",
    "listToPrint = list(range(10))\n",
    "\n",
    "plt.plot(listToPrint)"
   ]
  },
  {
   "cell_type": "markdown",
   "id": "31d47538-ef2e-4be4-b1e1-6ab8a2539781",
   "metadata": {},
   "source": [
    "<div style=\"padding-top:10px;padding-bottom:10px;\">\n",
    "    <p>Now that you finished this content, do the <a href = \"Exercises/Exercise_4.ipynb\">exercises</a></p>\n",
    "</div>"
   ]
  }
 ],
 "metadata": {
  "kernelspec": {
   "display_name": "Python 3 (ipykernel)",
   "language": "python",
   "name": "python3"
  },
  "language_info": {
   "codemirror_mode": {
    "name": "ipython",
    "version": 3
   },
   "file_extension": ".py",
   "mimetype": "text/x-python",
   "name": "python",
   "nbconvert_exporter": "python",
   "pygments_lexer": "ipython3",
   "version": "3.12.2"
  }
 },
 "nbformat": 4,
 "nbformat_minor": 5
}
